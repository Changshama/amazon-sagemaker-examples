{
 "cells": [
  {
   "cell_type": "markdown",
   "id": "ac5252bc-c2b2-4e66-9925-5ce14efb7c5b",
   "metadata": {},
   "source": [
    "# Train Autopilot models using a subset of data, and reuse its recipes on the whole dataset\n",
    "\n",
    "Amazon SageMaker Autopilot is an automated machine learning (commonly referred to as AutoML) solution for tabular datasets. You can use SageMaker Autopilot in different ways: on autopilot (without any human input) or with human guidance, without code through SageMaker Studio or scripted using the AWS SDKs. This notebook will use the AWS SDKs to create an Autopilot job on a subset of data, and apply the recipes on a whole dataset. Compared with running Autopilot job directly on the whole dataset, you save cost and build models more efficiently."
   ]
  },
  {
   "cell_type": "markdown",
   "id": "5d5c582b-4744-4543-8f04-3b98c84cb327",
   "metadata": {},
   "source": [
    "## Setup Environment"
   ]
  },
  {
   "cell_type": "code",
   "execution_count": 55,
   "id": "cd7c6d92-6254-4c71-9e26-bfe919faffef",
   "metadata": {
    "tags": []
   },
   "outputs": [],
   "source": [
    "import boto3\n",
    "import botocore\n",
    "import time\n",
    "import json\n",
    "import sagemaker\n",
    "from sagemaker import AutoML, get_execution_role\n",
    "from datetime import datetime, timezone\n",
    "import pandas as pd\n",
    "\n",
    "sess = sagemaker.session.Session()\n",
    "role = sagemaker.get_execution_role()\n",
    "region = boto3.session.Session().region_name\n",
    "\n",
    "bucket = sess.default_bucket()\n",
    "prefix = \"autopilot-subset-0625\"  # change this to your own prefix\n",
    "sagemaker_client = boto3.client(\"sagemaker\")\n",
    "session = sagemaker.Session()"
   ]
  },
  {
   "cell_type": "code",
   "execution_count": 56,
   "id": "5322de50-4d15-45db-adb7-a0bff3809f86",
   "metadata": {
    "tags": []
   },
   "outputs": [],
   "source": [
    "from time import gmtime, strftime, sleep\n",
    "\n",
    "timestamp_suffix = strftime(\"%Y%m%d-%H-%M\", gmtime())"
   ]
  },
  {
   "cell_type": "markdown",
   "id": "d8e3dbb2-14e1-428d-ba1e-82a0c09dc802",
   "metadata": {},
   "source": [
    "## Prepare Data"
   ]
  },
  {
   "cell_type": "code",
   "execution_count": null,
   "id": "8e4d4982-f33f-469a-bea4-4b345bc8edd7",
   "metadata": {},
   "outputs": [],
   "source": [
    "# s3 = boto3.client(\"s3\")\n",
    "# s3.download_file(\n",
    "#     f\"sagemaker-studio-agpwopwdg6o\",\n",
    "#     \"bank-additional/bank-additional-full.csv\",\n",
    "#     \"bank-data.csv\",\n",
    "# )"
   ]
  },
  {
   "cell_type": "code",
   "execution_count": null,
   "id": "9daf23a1-0419-4c58-8b4d-e3e3ea03f1c3",
   "metadata": {
    "tags": []
   },
   "outputs": [],
   "source": [
    "# kick off an autopilot job, save this step if you already have a finished autopilot job\n",
    "# s3 = boto3.client(\"s3\")\n",
    "# s3.download_file(\n",
    "#     f\"sagemaker-studio-agpwopwdg6o\",\n",
    "#     \"bank-additional/bank-additional-full.csv\",\n",
    "#     \"bank-data.csv\",\n",
    "# )\n",
    "import zipfile\n",
    "\n",
    "!wget https://archive.ics.uci.edu/static/public/222/bank+marketing.zip\n",
    "\n",
    "with zipfile.ZipFile(\"bank+marketing.zip\", \"r\") as zip_ref:\n",
    "    zip_ref.extractall(\".\")"
   ]
  },
  {
   "cell_type": "code",
   "execution_count": 140,
   "id": "e4638417-712c-47cd-a35b-f7b52a25d2fe",
   "metadata": {
    "tags": []
   },
   "outputs": [],
   "source": [
    "with zipfile.ZipFile(\"bank-additional.zip\", \"r\") as zip_ref:\n",
    "    zip_ref.extractall(\".\")"
   ]
  },
  {
   "cell_type": "code",
   "execution_count": null,
   "id": "9f216a2d-51d7-4183-a2eb-5a5247436d23",
   "metadata": {
    "tags": []
   },
   "outputs": [],
   "source": [
    "# read the dataset\n",
    "bank_df = pd.read_csv(\"./bank-additional/bank-additional-full.csv\", sep=\";\")\n",
    "pd.set_option(\"display.max_columns\", 500)\n",
    "bank_df"
   ]
  },
  {
   "cell_type": "code",
   "execution_count": 143,
   "id": "cc49d0ac-f2b6-4472-b62d-f196fcacf5c2",
   "metadata": {
    "tags": []
   },
   "outputs": [
    {
     "name": "stdout",
     "output_type": "stream",
     "text": [
      "Train-validation data uploaded to: s3://sagemaker-us-east-1-827930657850/autopilot-subset-0625/train/train_val_whole_data.csv\n",
      "Test data uploaded to: s3://sagemaker-us-east-1-827930657850/autopilot-subset-0625/test/test_data_no_target.csv\n",
      "Train data uploaded to: s3://sagemaker-us-east-1-827930657850/autopilot-subset-0625/train/train_whole_data.csv\n",
      "validation data uploaded to: s3://sagemaker-us-east-1-827930657850/autopilot-subset-0625/val/val_whole_data.csv\n",
      "Train subset uploaded to: s3://sagemaker-us-east-1-827930657850/autopilot-subset-0625/train/train_subset_data.csv\n"
     ]
    }
   ],
   "source": [
    "# Split the whole dataset to training and testing (80/20 split)\n",
    "target = \"y\"\n",
    "train_data = bank_df.sample(frac=0.8, random_state=200)\n",
    "\n",
    "test_data = bank_df.drop(train_data.index)\n",
    "\n",
    "test_data_no_target = test_data.drop(columns=[target])\n",
    "\n",
    "# shift the target column from the last to the first\n",
    "cols = list(train_data.columns)\n",
    "cols = [cols[-1]] + cols[:-1]\n",
    "train_data = train_data[cols]\n",
    "\n",
    "### Upload the datasets to S3\n",
    "train_val_file = \"train_val_whole_data.csv\"\n",
    "train_data.to_csv(train_val_file, index=False, header=True)\n",
    "train_val_data_s3_path = sess.upload_data(path=train_val_file, key_prefix=prefix + \"/train\")\n",
    "print(\"Train-validation data uploaded to: \" + train_val_data_s3_path)\n",
    "\n",
    "test_file = \"test_data_no_target.csv\"\n",
    "test_data_no_target.to_csv(test_file, index=False, header=False)\n",
    "test_data_s3_path = sess.upload_data(path=test_file, key_prefix=prefix + \"/test\")\n",
    "print(\"Test data uploaded to: \" + test_data_s3_path)\n",
    "\n",
    "# further split the whole training dataset into training and validation datasets (75/25 split)\n",
    "# these will be used to re-fit model using automl's recipes\n",
    "val_data = train_data.sample(frac=0.25, random_state=200)\n",
    "train_data = train_data.drop(val_data.index)\n",
    "\n",
    "### Upload the datasets to S3\n",
    "train_file = \"train_whole_data.csv\"\n",
    "train_data.to_csv(train_file, index=False, header=False)\n",
    "train_data_s3_path = sess.upload_data(path=train_file, key_prefix=prefix + \"/train\")\n",
    "print(\"Train data uploaded to: \" + train_data_s3_path)\n",
    "\n",
    "val_file = \"val_whole_data.csv\"\n",
    "val_data.to_csv(val_file, index=False, header=False)\n",
    "val_data_s3_path = sess.upload_data(path=val_file, key_prefix=prefix + \"/val\")\n",
    "print(\"validation data uploaded to: \" + val_data_s3_path)\n",
    "\n",
    "# take a subset of the training data to run autopilot job, e.g. 20%\n",
    "# TODO: stratified sampling\n",
    "\n",
    "train_subset = train_data.sample(frac=0.2, random_state=100)\n",
    "\n",
    "# keep header for subset data, since autopilot need header information to pick target\n",
    "train_file = \"train_subset_data.csv\"\n",
    "train_subset.to_csv(train_file, index=False, header=True)\n",
    "train_subset_s3_path = sess.upload_data(path=train_file, key_prefix=prefix + \"/train\")\n",
    "print(\"Train subset uploaded to: \" + train_subset_s3_path)"
   ]
  },
  {
   "cell_type": "markdown",
   "id": "aefbc26e-4ae9-4e9c-8cd6-47f85219702f",
   "metadata": {},
   "source": [
    "## Setup Autopilot Jobs\n",
    "\n",
    "Kick off an autopilot job using only a subset of the training data.\n",
    "\n",
    "For baselining purpose, we also kick off an autopilot job using the whole training data. Note that the solution itself only needs the first autopilot job."
   ]
  },
  {
   "cell_type": "code",
   "execution_count": 72,
   "id": "ec182367-804c-4b73-8cac-5c8072758251",
   "metadata": {
    "tags": []
   },
   "outputs": [],
   "source": [
    "input_s3_path = train_subset_s3_path\n",
    "auto_ml_job_name = \"auto-bank-sub-\" + timestamp_suffix\n",
    "\n",
    "input_data_config = [\n",
    "    {\n",
    "        \"DataSource\": {\n",
    "            \"S3DataSource\": {\n",
    "                \"S3DataType\": \"S3Prefix\",\n",
    "                \"S3Uri\": input_s3_path,\n",
    "            }\n",
    "        },\n",
    "        \"TargetAttributeName\": target,\n",
    "    }\n",
    "]\n",
    "\n",
    "job_config = {\"CompletionCriteria\": {\"MaxCandidates\": 10}}\n",
    "\n",
    "output_data_config = {\"S3OutputPath\": \"s3://{}/{}/full-output\".format(bucket, prefix)}\n",
    "\n",
    "print(\"AutoMLJobName: \" + auto_ml_job_name)\n",
    "\n",
    "sagemaker_client.create_auto_ml_job(\n",
    "    AutoMLJobName=auto_ml_job_name,\n",
    "    InputDataConfig=input_data_config,\n",
    "    OutputDataConfig=output_data_config,\n",
    "    AutoMLJobConfig=job_config,\n",
    "    RoleArn=role,\n",
    ")"
   ]
  },
  {
   "cell_type": "code",
   "execution_count": 72,
   "id": "42bf189f-09a1-450d-bf2e-2bc3e82b8098",
   "metadata": {
    "tags": []
   },
   "outputs": [],
   "source": [
    "# Autopilot job for baselining purpose\n",
    "input_s3_path = train_val_data_s3_path\n",
    "auto_ml_baseline_job_name = \"auto-bank-all-\" + timestamp_suffix\n",
    "\n",
    "input_data_config = [\n",
    "    {\n",
    "        \"DataSource\": {\n",
    "            \"S3DataSource\": {\n",
    "                \"S3DataType\": \"S3Prefix\",\n",
    "                \"S3Uri\": input_s3_path,\n",
    "            }\n",
    "        },\n",
    "        \"TargetAttributeName\": target,\n",
    "    }\n",
    "]\n",
    "\n",
    "job_config = {\"CompletionCriteria\": {\"MaxCandidates\": 10}}\n",
    "\n",
    "output_data_config = {\"S3OutputPath\": \"s3://{}/{}/full-output\".format(bucket, prefix)}\n",
    "\n",
    "print(\"AutoMLJobName: \" + auto_ml_baseline_job_name)\n",
    "\n",
    "sagemaker_client.create_auto_ml_job(\n",
    "    AutoMLJobName=auto_ml_baseline_job_name,\n",
    "    InputDataConfig=input_data_config,\n",
    "    OutputDataConfig=output_data_config,\n",
    "    AutoMLJobConfig=job_config,\n",
    "    RoleArn=role,\n",
    ")"
   ]
  },
  {
   "cell_type": "markdown",
   "id": "97c15409-741b-42c4-80f1-8110fd50e8e6",
   "metadata": {},
   "source": [
    "## Tracking Autopilot Job Progress"
   ]
  },
  {
   "cell_type": "code",
   "execution_count": null,
   "id": "e4933f27-4931-48dc-955b-fd0da314f5c3",
   "metadata": {
    "tags": []
   },
   "outputs": [
    {
     "name": "stdout",
     "output_type": "stream",
     "text": [
      "JobStatus - Secondary Status\n",
      "------------------------------\n",
      "InProgress - AnalyzingData\n",
      "InProgress - AnalyzingData\n",
      "InProgress - FeatureEngineering\n",
      "InProgress - FeatureEngineering\n",
      "InProgress - FeatureEngineering\n",
      "InProgress - FeatureEngineering\n",
      "InProgress - FeatureEngineering\n",
      "InProgress - FeatureEngineering\n",
      "InProgress - FeatureEngineering\n",
      "InProgress - FeatureEngineering\n",
      "InProgress - FeatureEngineering\n",
      "InProgress - ModelTuning\n",
      "InProgress - ModelTuning\n",
      "InProgress - ModelTuning\n",
      "InProgress - ModelTuning\n",
      "InProgress - ModelTuning\n",
      "InProgress - ModelTuning\n",
      "InProgress - ModelTuning\n",
      "InProgress - ModelTuning\n",
      "InProgress - ModelTuning\n",
      "InProgress - ModelTuning\n",
      "InProgress - ModelTuning\n",
      "InProgress - ModelTuning\n",
      "InProgress - ModelTuning\n",
      "InProgress - MergingAutoMLTaskReports\n",
      "InProgress - MergingAutoMLTaskReports\n",
      "InProgress - MergingAutoMLTaskReports\n",
      "InProgress - MergingAutoMLTaskReports\n",
      "InProgress - MergingAutoMLTaskReports\n",
      "InProgress - MergingAutoMLTaskReports\n",
      "InProgress - MergingAutoMLTaskReports\n",
      "InProgress - MergingAutoMLTaskReports\n",
      "InProgress - MergingAutoMLTaskReports\n",
      "Completed - Completed\n"
     ]
    }
   ],
   "source": [
    "print(\"JobStatus - Secondary Status\")\n",
    "print(\"------------------------------\")\n",
    "\n",
    "\n",
    "describe_response = sagemaker_client.describe_auto_ml_job(AutoMLJobName=auto_ml_job_name)\n",
    "print(describe_response[\"AutoMLJobStatus\"] + \" - \" + describe_response[\"AutoMLJobSecondaryStatus\"])\n",
    "job_run_status = describe_response[\"AutoMLJobStatus\"]\n",
    "\n",
    "while job_run_status not in (\"Failed\", \"Completed\", \"Stopped\"):\n",
    "    describe_response = sagemaker_client.describe_auto_ml_job(AutoMLJobName=auto_ml_job_name)\n",
    "    job_run_status = describe_response[\"AutoMLJobStatus\"]\n",
    "\n",
    "    print(\n",
    "        describe_response[\"AutoMLJobStatus\"] + \" - \" + describe_response[\"AutoMLJobSecondaryStatus\"]\n",
    "    )\n",
    "    sleep(60)"
   ]
  },
  {
   "cell_type": "markdown",
   "id": "5edcde14-f008-41a4-986f-a9ebd0452252",
   "metadata": {},
   "source": [
    "## Retrieve best models from the Autopilot job"
   ]
  },
  {
   "cell_type": "code",
   "execution_count": null,
   "id": "004c08b1-f671-4e66-9f11-e61a430f8d0f",
   "metadata": {
    "tags": []
   },
   "outputs": [],
   "source": [
    "# get best candidate of the job\n",
    "\n",
    "# auto_ml_job_name = 'bank-subset-20230524-13-12'\n",
    "automl = AutoML.attach(auto_ml_job_name=auto_ml_job_name)\n",
    "best_candidate = automl.describe_auto_ml_job()[\"BestCandidate\"]\n",
    "best_candidate_name = best_candidate[\"CandidateName\"]"
   ]
  },
  {
   "cell_type": "code",
   "execution_count": 79,
   "id": "4a98fc6b-e58f-4831-9547-39d3fa029a41",
   "metadata": {
    "tags": []
   },
   "outputs": [
    {
     "data": {
      "text/plain": [
       "[{'CandidateStepType': 'AWS::SageMaker::ProcessingJob',\n",
       "  'CandidateStepArn': 'arn:aws:sagemaker:us-east-1:827930657850:processing-job/auto-bank-all-20230626-01-43-db-1-12c3638b711d44eb9e18c95fad96c',\n",
       "  'CandidateStepName': 'auto-bank-all-20230626-01-43-db-1-12c3638b711d44eb9e18c95fad96c'},\n",
       " {'CandidateStepType': 'AWS::SageMaker::TrainingJob',\n",
       "  'CandidateStepArn': 'arn:aws:sagemaker:us-east-1:827930657850:training-job/auto-bank-all-20230626-01-43-dpp7-1-3acf41de1a544b5cbdc33c2730b',\n",
       "  'CandidateStepName': 'auto-bank-all-20230626-01-43-dpp7-1-3acf41de1a544b5cbdc33c2730b'},\n",
       " {'CandidateStepType': 'AWS::SageMaker::TransformJob',\n",
       "  'CandidateStepArn': 'arn:aws:sagemaker:us-east-1:827930657850:transform-job/auto-bank-all-20230626-01-43-dpp7-rpb-1-b4d1c5f005954a59b97434b',\n",
       "  'CandidateStepName': 'auto-bank-all-20230626-01-43-dpp7-rpb-1-b4d1c5f005954a59b97434b'},\n",
       " {'CandidateStepType': 'AWS::SageMaker::TrainingJob',\n",
       "  'CandidateStepArn': 'arn:aws:sagemaker:us-east-1:827930657850:training-job/auto-bank-all-20230626-01-43GxpJ-008-c0ecb8eb',\n",
       "  'CandidateStepName': 'auto-bank-all-20230626-01-43GxpJ-008-c0ecb8eb'}]"
      ]
     },
     "execution_count": 79,
     "metadata": {},
     "output_type": "execute_result"
    }
   ],
   "source": [
    "best_candidate[\"CandidateSteps\"]"
   ]
  },
  {
   "cell_type": "code",
   "execution_count": 80,
   "id": "8108042c-a7bc-4851-a4ce-ce9ec4e99161",
   "metadata": {
    "tags": []
   },
   "outputs": [
    {
     "name": "stdout",
     "output_type": "stream",
     "text": [
      "transform_job:auto-bank-all-20230626-01-43-dpp7-rpb-1-b4d1c5f005954a59b97434b, tuning_job:auto-bank-all-20230626-01-43GxpJ-008-c0ecb8eb\n"
     ]
    }
   ],
   "source": [
    "# you will need transform job for data processing/feature engineering\n",
    "# and tuning job for model tuning/fitting\n",
    "transform_job = \"\"\n",
    "tuning_job = \"\"\n",
    "for index in range(len(best_candidate[\"CandidateSteps\"])):\n",
    "    if (\n",
    "        best_candidate[\"CandidateSteps\"][index][\"CandidateStepType\"]\n",
    "        == \"AWS::SageMaker::TransformJob\"\n",
    "    ):\n",
    "        transform_job = best_candidate[\"CandidateSteps\"][index][\"CandidateStepName\"]\n",
    "    if (\n",
    "        best_candidate[\"CandidateSteps\"][index][\"CandidateStepType\"]\n",
    "        == \"AWS::SageMaker::TrainingJob\"\n",
    "    ):\n",
    "        tuning_job = best_candidate[\"CandidateSteps\"][index][\"CandidateStepName\"]\n",
    "\n",
    "print(f\"transform_job:{transform_job}, tuning_job:{tuning_job}\")"
   ]
  },
  {
   "cell_type": "code",
   "execution_count": 81,
   "id": "85e0afd4-11f1-4aee-92e0-2c2227c179c6",
   "metadata": {
    "collapsed": true,
    "jupyter": {
     "outputs_hidden": true
    },
    "tags": []
   },
   "outputs": [
    {
     "data": {
      "text/plain": [
       "{'TransformJobName': 'auto-bank-all-20230626-01-43-dpp7-rpb-1-b4d1c5f005954a59b97434b',\n",
       " 'TransformJobArn': 'arn:aws:sagemaker:us-east-1:827930657850:transform-job/auto-bank-all-20230626-01-43-dpp7-rpb-1-b4d1c5f005954a59b97434b',\n",
       " 'TransformJobStatus': 'Completed',\n",
       " 'ModelName': 'auto-bank-all-20230626-01-43-dpp7-model-ad5717c1b41a4e938702e8a',\n",
       " 'MaxConcurrentTransforms': 4,\n",
       " 'TransformInput': {'DataSource': {'S3DataSource': {'S3DataType': 'S3Prefix',\n",
       "    'S3Uri': 's3://sagemaker-us-east-1-827930657850/autopilot-subset-0625/full-output/auto-bank-all-20230626-01-43/preprocessed-data/tuning_data'}},\n",
       "  'ContentType': 'text/csv',\n",
       "  'CompressionType': 'None',\n",
       "  'SplitType': 'Line'},\n",
       " 'TransformOutput': {'S3OutputPath': 's3://sagemaker-us-east-1-827930657850/autopilot-subset-0625/full-output/auto-bank-all-20230626-01-43/transformed-data/dpp7/rpb',\n",
       "  'Accept': 'application/x-recordio-protobuf',\n",
       "  'AssembleWith': 'None',\n",
       "  'KmsKeyId': ''},\n",
       " 'TransformResources': {'InstanceType': 'ml.m5.4xlarge', 'InstanceCount': 1},\n",
       " 'CreationTime': datetime.datetime(2023, 6, 26, 14, 26, 59, 721000, tzinfo=tzlocal()),\n",
       " 'TransformStartTime': datetime.datetime(2023, 6, 26, 14, 30, 11, 97000, tzinfo=tzlocal()),\n",
       " 'TransformEndTime': datetime.datetime(2023, 6, 26, 14, 31, 56, 811000, tzinfo=tzlocal()),\n",
       " 'AutoMLJobArn': 'arn:aws:sagemaker:us-east-1:827930657850:automl-job/auto-bank-all-20230626-01-43',\n",
       " 'DataProcessing': {'InputFilter': '$',\n",
       "  'OutputFilter': '$',\n",
       "  'JoinSource': 'None'},\n",
       " 'CreatedBy': {'UserProfileArn': 'arn:aws:sagemaker:us-east-1:827930657850:user-profile/d-j8ta2p2rirbo/mamachang-2',\n",
       "  'UserProfileName': 'mamachang-2',\n",
       "  'DomainId': 'd-j8ta2p2rirbo'},\n",
       " 'ResponseMetadata': {'RequestId': '62c01ccf-325e-4c7c-8e77-d040afb891a2',\n",
       "  'HTTPStatusCode': 200,\n",
       "  'HTTPHeaders': {'x-amzn-requestid': '62c01ccf-325e-4c7c-8e77-d040afb891a2',\n",
       "   'content-type': 'application/x-amz-json-1.1',\n",
       "   'content-length': '1418',\n",
       "   'date': 'Mon, 26 Jun 2023 15:11:07 GMT'},\n",
       "  'RetryAttempts': 0}}"
      ]
     },
     "execution_count": 81,
     "metadata": {},
     "output_type": "execute_result"
    }
   ],
   "source": [
    "# If you describe the transform job, you will see the recipe of data processing\n",
    "response = sagemaker_client.describe_transform_job(TransformJobName=transform_job)\n",
    "response"
   ]
  },
  {
   "cell_type": "code",
   "execution_count": 82,
   "id": "949a920a-cf5a-4987-962e-1d2d6bb831f0",
   "metadata": {},
   "outputs": [],
   "source": [
    "# The recipe of data processing we will use in later steps\n",
    "transform_model = response[\"ModelName\"]\n",
    "input_content_type = response[\"TransformInput\"][\"ContentType\"]\n",
    "output_accept = response[\"TransformOutput\"][\"Accept\"]"
   ]
  },
  {
   "cell_type": "code",
   "execution_count": 84,
   "id": "38c5bc2a-7aee-4182-b94f-817e75fad3a8",
   "metadata": {
    "collapsed": true,
    "jupyter": {
     "outputs_hidden": true
    },
    "tags": []
   },
   "outputs": [
    {
     "data": {
      "text/plain": [
       "{'TrainingJobName': 'auto-bank-all-20230626-01-43GxpJ-008-c0ecb8eb',\n",
       " 'TrainingJobArn': 'arn:aws:sagemaker:us-east-1:827930657850:training-job/auto-bank-all-20230626-01-43GxpJ-008-c0ecb8eb',\n",
       " 'TuningJobArn': 'arn:aws:sagemaker:us-east-1:827930657850:hyper-parameter-tuning-job/auto-bank-all-20230626-01-43gxpj',\n",
       " 'AutoMLJobArn': 'arn:aws:sagemaker:us-east-1:827930657850:automl-job/auto-bank-all-20230626-01-43',\n",
       " 'ModelArtifacts': {'S3ModelArtifacts': 's3://sagemaker-us-east-1-827930657850/autopilot-subset-0625/full-output/auto-bank-all-20230626-01-43/tuning/auto-bank--dpp7-xgb/auto-bank-all-20230626-01-43GxpJ-008-c0ecb8eb/output/model.tar.gz'},\n",
       " 'TrainingJobOutput': {'S3TrainingJobOutput': 's3://sagemaker-us-east-1-827930657850/autopilot-subset-0625/full-output/auto-bank-all-20230626-01-43/tuning/auto-bank--dpp7-xgb/auto-bank-all-20230626-01-43GxpJ-008-c0ecb8eb/output/output.tar.gz'},\n",
       " 'TrainingJobStatus': 'Completed',\n",
       " 'SecondaryStatus': 'Completed',\n",
       " 'HyperParameters': {'_kfold': '5',\n",
       "  '_tuning_objective_metric': 'validation:f1_binary',\n",
       "  'alpha': '4.091931434632842e-05',\n",
       "  'colsample_bytree': '0.6141821856697558',\n",
       "  'eta': '0.03352590715961615',\n",
       "  'eval_metric': 'accuracy,f1_binary,auc,balanced_accuracy,precision,recall,logloss',\n",
       "  'gamma': '0.3227898134847502',\n",
       "  'lambda': '0.0021889814680084857',\n",
       "  'max_depth': '3',\n",
       "  'min_child_weight': '0.0022699252118050907',\n",
       "  'num_round': '513',\n",
       "  'objective': 'binary:logistic',\n",
       "  'scale_pos_weight': '7.9611096002175685',\n",
       "  'subsample': '0.8112181424105411'},\n",
       " 'AlgorithmSpecification': {'TrainingImage': '683313688378.dkr.ecr.us-east-1.amazonaws.com/sagemaker-xgboost:1.3-1-cpu-py3',\n",
       "  'TrainingInputMode': 'File',\n",
       "  'MetricDefinitions': [{'Name': 'train:mae',\n",
       "    'Regex': '.*\\\\[[0-9]+\\\\].*#011train-mae:([-+]?[0-9]*\\\\.?[0-9]+(?:[eE][-+]?[0-9]+)?).*'},\n",
       "   {'Name': 'validation:aucpr',\n",
       "    'Regex': '.*\\\\[[0-9]+\\\\].*#011validation-aucpr:([-+]?[0-9]*\\\\.?[0-9]+(?:[eE][-+]?[0-9]+)?).*'},\n",
       "   {'Name': 'validation:f1_binary',\n",
       "    'Regex': '.*\\\\[[0-9]+\\\\].*#011validation-f1_binary:([-+]?[0-9]*\\\\.?[0-9]+(?:[eE][-+]?[0-9]+)?).*'},\n",
       "   {'Name': 'validation:mae',\n",
       "    'Regex': '.*\\\\[[0-9]+\\\\].*#011validation-mae:([-+]?[0-9]*\\\\.?[0-9]+(?:[eE][-+]?[0-9]+)?).*'},\n",
       "   {'Name': 'validation:logloss',\n",
       "    'Regex': '.*\\\\[[0-9]+\\\\].*#011validation-logloss:([-+]?[0-9]*\\\\.?[0-9]+(?:[eE][-+]?[0-9]+)?).*'},\n",
       "   {'Name': 'validation:f1',\n",
       "    'Regex': '.*\\\\[[0-9]+\\\\].*#011validation-f1:([-+]?[0-9]*\\\\.?[0-9]+(?:[eE][-+]?[0-9]+)?).*'},\n",
       "   {'Name': 'train:accuracy',\n",
       "    'Regex': '.*\\\\[[0-9]+\\\\].*#011train-accuracy:([-+]?[0-9]*\\\\.?[0-9]+(?:[eE][-+]?[0-9]+)?).*'},\n",
       "   {'Name': 'train:mse',\n",
       "    'Regex': '.*\\\\[[0-9]+\\\\].*#011train-mse:([-+]?[0-9]*\\\\.?[0-9]+(?:[eE][-+]?[0-9]+)?).*'},\n",
       "   {'Name': 'validation:recall',\n",
       "    'Regex': '.*\\\\[[0-9]+\\\\].*#011validation-recall:([-+]?[0-9]*\\\\.?[0-9]+(?:[eE][-+]?[0-9]+)?).*'},\n",
       "   {'Name': 'validation:poisson-nloglik',\n",
       "    'Regex': '.*\\\\[[0-9]+\\\\].*#011validation-poisson-nloglik:([-+]?[0-9]*\\\\.?[0-9]+(?:[eE][-+]?[0-9]+)?).*'},\n",
       "   {'Name': 'validation:precision',\n",
       "    'Regex': '.*\\\\[[0-9]+\\\\].*#011validation-precision:([-+]?[0-9]*\\\\.?[0-9]+(?:[eE][-+]?[0-9]+)?).*'},\n",
       "   {'Name': 'train:error',\n",
       "    'Regex': '.*\\\\[[0-9]+\\\\].*#011train-error:([-+]?[0-9]*\\\\.?[0-9]+(?:[eE][-+]?[0-9]+)?).*'},\n",
       "   {'Name': 'train:ndcg',\n",
       "    'Regex': '.*\\\\[[0-9]+\\\\].*#011train-ndcg:([-+]?[0-9]*\\\\.?[0-9]+(?:[eE][-+]?[0-9]+)?).*'},\n",
       "   {'Name': 'validation:map',\n",
       "    'Regex': '.*\\\\[[0-9]+\\\\].*#011validation-map:([-+]?[0-9]*\\\\.?[0-9]+(?:[eE][-+]?[0-9]+)?).*'},\n",
       "   {'Name': 'train:f1_binary',\n",
       "    'Regex': '.*\\\\[[0-9]+\\\\].*#011train-f1_binary:([-+]?[0-9]*\\\\.?[0-9]+(?:[eE][-+]?[0-9]+)?).*'},\n",
       "   {'Name': 'validation:auc',\n",
       "    'Regex': '.*\\\\[[0-9]+\\\\].*#011validation-auc:([-+]?[0-9]*\\\\.?[0-9]+(?:[eE][-+]?[0-9]+)?).*'},\n",
       "   {'Name': 'train:auc',\n",
       "    'Regex': '.*\\\\[[0-9]+\\\\].*#011train-auc:([-+]?[0-9]*\\\\.?[0-9]+(?:[eE][-+]?[0-9]+)?).*'},\n",
       "   {'Name': 'validation:error',\n",
       "    'Regex': '.*\\\\[[0-9]+\\\\].*#011validation-error:([-+]?[0-9]*\\\\.?[0-9]+(?:[eE][-+]?[0-9]+)?).*'},\n",
       "   {'Name': 'train:poisson-nloglik',\n",
       "    'Regex': '.*\\\\[[0-9]+\\\\].*#011train-poisson-nloglik:([-+]?[0-9]*\\\\.?[0-9]+(?:[eE][-+]?[0-9]+)?).*'},\n",
       "   {'Name': 'train:rmse',\n",
       "    'Regex': '.*\\\\[[0-9]+\\\\].*#011train-rmse:([-+]?[0-9]*\\\\.?[0-9]+(?:[eE][-+]?[0-9]+)?).*'},\n",
       "   {'Name': 'train:logloss',\n",
       "    'Regex': '.*\\\\[[0-9]+\\\\].*#011train-logloss:([-+]?[0-9]*\\\\.?[0-9]+(?:[eE][-+]?[0-9]+)?).*'},\n",
       "   {'Name': 'validation:accuracy',\n",
       "    'Regex': '.*\\\\[[0-9]+\\\\].*#011validation-accuracy:([-+]?[0-9]*\\\\.?[0-9]+(?:[eE][-+]?[0-9]+)?).*'},\n",
       "   {'Name': 'train:aucpr',\n",
       "    'Regex': '.*\\\\[[0-9]+\\\\].*#011train-aucpr:([-+]?[0-9]*\\\\.?[0-9]+(?:[eE][-+]?[0-9]+)?).*'},\n",
       "   {'Name': 'validation:balanced_accuracy',\n",
       "    'Regex': '.*\\\\[[0-9]+\\\\].*#011validation-balanced_accuracy:([-+]?[0-9]*\\\\.?[0-9]+(?:[eE][-+]?[0-9]+)?).*'},\n",
       "   {'Name': 'validation:rmse',\n",
       "    'Regex': '.*\\\\[[0-9]+\\\\].*#011validation-rmse:([-+]?[0-9]*\\\\.?[0-9]+(?:[eE][-+]?[0-9]+)?).*'},\n",
       "   {'Name': 'validation:mse',\n",
       "    'Regex': '.*\\\\[[0-9]+\\\\].*#011validation-mse:([-+]?[0-9]*\\\\.?[0-9]+(?:[eE][-+]?[0-9]+)?).*'},\n",
       "   {'Name': 'validation:ndcg',\n",
       "    'Regex': '.*\\\\[[0-9]+\\\\].*#011validation-ndcg:([-+]?[0-9]*\\\\.?[0-9]+(?:[eE][-+]?[0-9]+)?).*'},\n",
       "   {'Name': 'train:f1',\n",
       "    'Regex': '.*\\\\[[0-9]+\\\\].*#011train-f1:([-+]?[0-9]*\\\\.?[0-9]+(?:[eE][-+]?[0-9]+)?).*'},\n",
       "   {'Name': 'train:map',\n",
       "    'Regex': '.*\\\\[[0-9]+\\\\].*#011train-map:([-+]?[0-9]*\\\\.?[0-9]+(?:[eE][-+]?[0-9]+)?).*'},\n",
       "   {'Name': 'ObjectiveMetric',\n",
       "    'Regex': '.*\\\\[[0-9]+\\\\].*#011validation-f1_binary:([-+]?[0-9]*\\\\.?[0-9]+(?:[eE][-+]?[0-9]+)?).*'}],\n",
       "  'EnableSageMakerMetricsTimeSeries': False},\n",
       " 'RoleArn': 'arn:aws:iam::827930657850:role/service-role/AmazonSageMaker-ExecutionRole-20221027T154083',\n",
       " 'InputDataConfig': [{'ChannelName': 'train',\n",
       "   'DataSource': {'S3DataSource': {'S3DataType': 'S3Prefix',\n",
       "     'S3Uri': 's3://sagemaker-us-east-1-827930657850/autopilot-subset-0625/full-output/auto-bank-all-20230626-01-43/transformed-data/dpp7/rpb/train',\n",
       "     'S3DataDistributionType': 'ShardedByS3Key'}},\n",
       "   'ContentType': 'application/x-recordio-protobuf',\n",
       "   'CompressionType': 'None',\n",
       "   'RecordWrapperType': 'None',\n",
       "   'InputMode': 'Pipe',\n",
       "   'EnableFFM': False},\n",
       "  {'ChannelName': 'validation',\n",
       "   'DataSource': {'S3DataSource': {'S3DataType': 'S3Prefix',\n",
       "     'S3Uri': 's3://sagemaker-us-east-1-827930657850/autopilot-subset-0625/full-output/auto-bank-all-20230626-01-43/transformed-data/dpp7/rpb/validation',\n",
       "     'S3DataDistributionType': 'FullyReplicated'}},\n",
       "   'ContentType': 'application/x-recordio-protobuf',\n",
       "   'CompressionType': 'None',\n",
       "   'RecordWrapperType': 'None',\n",
       "   'InputMode': 'Pipe',\n",
       "   'EnableFFM': False}],\n",
       " 'OutputDataConfig': {'KmsKeyId': '',\n",
       "  'S3OutputPath': 's3://sagemaker-us-east-1-827930657850/autopilot-subset-0625/full-output/auto-bank-all-20230626-01-43/tuning/auto-bank--dpp7-xgb',\n",
       "  'RemoveJobNameFromS3OutputPath': False},\n",
       " 'ResourceConfig': {'InstanceType': 'ml.m5.12xlarge',\n",
       "  'InstanceCount': 1,\n",
       "  'VolumeSizeInGB': 50},\n",
       " 'WarmPoolStatus': {'Status': 'Terminated'},\n",
       " 'StoppingCondition': {'MaxRuntimeInSeconds': 86400},\n",
       " 'CreationTime': datetime.datetime(2023, 6, 26, 14, 32, 58, 26000, tzinfo=tzlocal()),\n",
       " 'TrainingStartTime': datetime.datetime(2023, 6, 26, 14, 34, 26, 25000, tzinfo=tzlocal()),\n",
       " 'TrainingEndTime': datetime.datetime(2023, 6, 26, 14, 42, 54, 867000, tzinfo=tzlocal()),\n",
       " 'LastModifiedTime': datetime.datetime(2023, 6, 26, 14, 42, 56, 712000, tzinfo=tzlocal()),\n",
       " 'SecondaryStatusTransitions': [{'Status': 'Starting',\n",
       "   'StartTime': datetime.datetime(2023, 6, 26, 14, 32, 58, 26000, tzinfo=tzlocal()),\n",
       "   'EndTime': datetime.datetime(2023, 6, 26, 14, 34, 26, 25000, tzinfo=tzlocal()),\n",
       "   'StatusMessage': 'Preparing the instances for training'},\n",
       "  {'Status': 'Downloading',\n",
       "   'StartTime': datetime.datetime(2023, 6, 26, 14, 34, 26, 25000, tzinfo=tzlocal()),\n",
       "   'EndTime': datetime.datetime(2023, 6, 26, 14, 34, 51, 497000, tzinfo=tzlocal()),\n",
       "   'StatusMessage': 'Downloading input data'},\n",
       "  {'Status': 'Training',\n",
       "   'StartTime': datetime.datetime(2023, 6, 26, 14, 34, 51, 497000, tzinfo=tzlocal()),\n",
       "   'EndTime': datetime.datetime(2023, 6, 26, 14, 42, 49, 181000, tzinfo=tzlocal()),\n",
       "   'StatusMessage': 'Training image download completed. Training in progress.'},\n",
       "  {'Status': 'Uploading',\n",
       "   'StartTime': datetime.datetime(2023, 6, 26, 14, 42, 49, 181000, tzinfo=tzlocal()),\n",
       "   'EndTime': datetime.datetime(2023, 6, 26, 14, 42, 54, 867000, tzinfo=tzlocal()),\n",
       "   'StatusMessage': 'Uploading generated training model'},\n",
       "  {'Status': 'Completed',\n",
       "   'StartTime': datetime.datetime(2023, 6, 26, 14, 42, 54, 867000, tzinfo=tzlocal()),\n",
       "   'EndTime': datetime.datetime(2023, 6, 26, 14, 42, 54, 867000, tzinfo=tzlocal()),\n",
       "   'StatusMessage': 'Resource released due to keep alive period expiry'}],\n",
       " 'FinalMetricDataList': [{'MetricName': 'validation:f1_binary',\n",
       "   'Value': 0.6012600064277649,\n",
       "   'Timestamp': datetime.datetime(2023, 6, 26, 14, 42, 43, tzinfo=tzlocal())},\n",
       "  {'MetricName': 'validation:logloss',\n",
       "   'Value': 0.29236000776290894,\n",
       "   'Timestamp': datetime.datetime(2023, 6, 26, 14, 42, 43, tzinfo=tzlocal())},\n",
       "  {'MetricName': 'train:accuracy',\n",
       "   'Value': 0.8686299920082092,\n",
       "   'Timestamp': datetime.datetime(2023, 6, 26, 14, 42, 43, tzinfo=tzlocal())},\n",
       "  {'MetricName': 'validation:recall',\n",
       "   'Value': 0.9243999719619751,\n",
       "   'Timestamp': datetime.datetime(2023, 6, 26, 14, 42, 43, tzinfo=tzlocal())},\n",
       "  {'MetricName': 'validation:precision',\n",
       "   'Value': 0.44558000564575195,\n",
       "   'Timestamp': datetime.datetime(2023, 6, 26, 14, 42, 43, tzinfo=tzlocal())},\n",
       "  {'MetricName': 'train:f1_binary',\n",
       "   'Value': 0.6169599890708923,\n",
       "   'Timestamp': datetime.datetime(2023, 6, 26, 14, 42, 43, tzinfo=tzlocal())},\n",
       "  {'MetricName': 'validation:auc',\n",
       "   'Value': 0.9472299814224243,\n",
       "   'Timestamp': datetime.datetime(2023, 6, 26, 14, 42, 43, tzinfo=tzlocal())},\n",
       "  {'MetricName': 'train:auc',\n",
       "   'Value': 0.9579399824142456,\n",
       "   'Timestamp': datetime.datetime(2023, 6, 26, 14, 42, 43, tzinfo=tzlocal())},\n",
       "  {'MetricName': 'train:logloss',\n",
       "   'Value': 0.27702999114990234,\n",
       "   'Timestamp': datetime.datetime(2023, 6, 26, 14, 42, 43, tzinfo=tzlocal())},\n",
       "  {'MetricName': 'validation:accuracy',\n",
       "   'Value': 0.8631600141525269,\n",
       "   'Timestamp': datetime.datetime(2023, 6, 26, 14, 42, 43, tzinfo=tzlocal())},\n",
       "  {'MetricName': 'validation:balanced_accuracy',\n",
       "   'Value': 0.889930009841919,\n",
       "   'Timestamp': datetime.datetime(2023, 6, 26, 14, 42, 43, tzinfo=tzlocal())},\n",
       "  {'MetricName': 'ObjectiveMetric',\n",
       "   'Value': 0.6012600064277649,\n",
       "   'Timestamp': datetime.datetime(2023, 6, 26, 14, 42, 43, tzinfo=tzlocal())}],\n",
       " 'EnableNetworkIsolation': True,\n",
       " 'EnableInterContainerTrafficEncryption': True,\n",
       " 'EnableManagedSpotTraining': False,\n",
       " 'TrainingTimeInSeconds': 508,\n",
       " 'BillableTimeInSeconds': 508,\n",
       " 'ProfilingStatus': 'Disabled',\n",
       " 'CreatedBy': {'UserProfileArn': 'arn:aws:sagemaker:us-east-1:827930657850:user-profile/d-j8ta2p2rirbo/mamachang-2',\n",
       "  'UserProfileName': 'mamachang-2',\n",
       "  'DomainId': 'd-j8ta2p2rirbo'},\n",
       " 'DisableEFA': False,\n",
       " 'ResponseMetadata': {'RequestId': '4600aecd-a896-4449-a516-2390b32c3bb5',\n",
       "  'HTTPStatusCode': 200,\n",
       "  'HTTPHeaders': {'x-amzn-requestid': '4600aecd-a896-4449-a516-2390b32c3bb5',\n",
       "   'content-type': 'application/x-amz-json-1.1',\n",
       "   'content-length': '8931',\n",
       "   'date': 'Mon, 26 Jun 2023 15:12:00 GMT'},\n",
       "  'RetryAttempts': 0}}"
      ]
     },
     "execution_count": 84,
     "metadata": {},
     "output_type": "execute_result"
    }
   ],
   "source": [
    "# If you describe the training job, you will see the recipe of model tuning\n",
    "response = sagemaker_client.describe_training_job(TrainingJobName=tuning_job)\n",
    "# training_model = response['ModelName']\n",
    "response"
   ]
  },
  {
   "cell_type": "code",
   "execution_count": 14,
   "id": "35faf2be-e92e-4447-948d-c0c8bc9c13e4",
   "metadata": {
    "tags": []
   },
   "outputs": [],
   "source": [
    "# The recipe of model tuning we will use in later steps\n",
    "hyperparameters = response[\"HyperParameters\"]\n",
    "TrainingImage = response[\"AlgorithmSpecification\"][\"TrainingImage\"]"
   ]
  },
  {
   "cell_type": "markdown",
   "id": "969636a9-7493-4a68-af3a-8b4d027b3114",
   "metadata": {},
   "source": [
    "## Transform the whole training dataset with the best transform model"
   ]
  },
  {
   "cell_type": "code",
   "execution_count": 17,
   "id": "348a9331-8477-4546-b9b8-634ad360d3b5",
   "metadata": {
    "tags": []
   },
   "outputs": [],
   "source": [
    "timestamp_suffix = strftime(\"%Y%m%d-%H-%M\", gmtime())\n",
    "#\n",
    "train_transform_job = \"ap-transform-whole-train-\" + timestamp_suffix\n",
    "val_transform_job = \"ap-transform-whole-val-\" + timestamp_suffix\n",
    "#'s3://sagemaker-us-east-1-827930657850/autopilot-subset-recipe-0524/output/bank-subset-20230524-13-12/preprocessed-data/tuning_data/train/chunk_0.csv'\n",
    "train_transform_input = train_data_s3_path\n",
    "val_transform_input = val_data_s3_path\n",
    "\n",
    "\n",
    "train_transform_output = \"s3://{}/{}/output/whole/train\".format(bucket, prefix)\n",
    "val_transform_output = \"s3://{}/{}/output/whole/val\".format(bucket, prefix)"
   ]
  },
  {
   "cell_type": "code",
   "execution_count": null,
   "id": "288929fe-f1f0-4519-a287-115775421e09",
   "metadata": {},
   "outputs": [],
   "source": [
    "# kick off a new batch transform job for training and validation dataset\n",
    "new_transform_job = train_transform_job\n",
    "new_transform_input = train_transform_input\n",
    "new_transform_output = train_transform_output\n",
    "\n",
    "sagemaker_client.create_transform_job(\n",
    "    TransformJobName=new_transform_job,\n",
    "    ModelName=transform_model,\n",
    "    MaxConcurrentTransforms=4,\n",
    "    BatchStrategy=\"MultiRecord\",\n",
    "    TransformInput={\n",
    "        \"DataSource\": {\"S3DataSource\": {\"S3DataType\": \"S3Prefix\", \"S3Uri\": new_transform_input}},\n",
    "        \"ContentType\": input_content_type,\n",
    "        \"SplitType\": \"Line\",\n",
    "    },\n",
    "    TransformResources={\"InstanceType\": \"ml.m5.4xlarge\", \"InstanceCount\": 1},\n",
    "    TransformOutput={\"S3OutputPath\": new_transform_output, \"Accept\": output_accept},\n",
    ")"
   ]
  },
  {
   "cell_type": "code",
   "execution_count": 19,
   "id": "20456002-53eb-495b-94b4-1148db317348",
   "metadata": {
    "tags": []
   },
   "outputs": [
    {
     "data": {
      "text/plain": [
       "{'TransformJobArn': 'arn:aws:sagemaker:us-east-1:827930657850:transform-job/ap-transform-whole-val-20230623-13-12',\n",
       " 'ResponseMetadata': {'RequestId': 'c929183d-57ee-4649-bc20-50337a640ed6',\n",
       "  'HTTPStatusCode': 200,\n",
       "  'HTTPHeaders': {'x-amzn-requestid': 'c929183d-57ee-4649-bc20-50337a640ed6',\n",
       "   'content-type': 'application/x-amz-json-1.1',\n",
       "   'content-length': '114',\n",
       "   'date': 'Fri, 23 Jun 2023 13:13:56 GMT'},\n",
       "  'RetryAttempts': 0}}"
      ]
     },
     "execution_count": 19,
     "metadata": {},
     "output_type": "execute_result"
    }
   ],
   "source": [
    "new_transform_job = val_transform_job\n",
    "new_transform_input = val_transform_input\n",
    "new_transform_output = val_transform_output\n",
    "\n",
    "sagemaker_client.create_transform_job(\n",
    "    TransformJobName=new_transform_job,\n",
    "    ModelName=transform_model,\n",
    "    MaxConcurrentTransforms=4,\n",
    "    BatchStrategy=\"MultiRecord\",\n",
    "    TransformInput={\n",
    "        \"DataSource\": {\"S3DataSource\": {\"S3DataType\": \"S3Prefix\", \"S3Uri\": new_transform_input}},\n",
    "        \"ContentType\": input_content_type,\n",
    "        \"SplitType\": \"Line\",\n",
    "    },\n",
    "    TransformResources={\"InstanceType\": \"ml.m5.2xlarge\", \"InstanceCount\": 1},\n",
    "    TransformOutput={\"S3OutputPath\": new_transform_output, \"Accept\": output_accept},\n",
    ")"
   ]
  },
  {
   "cell_type": "markdown",
   "id": "dd456342-a0e3-4c25-bb80-1f231eb2f3bc",
   "metadata": {
    "tags": []
   },
   "source": [
    "## Create a new training job\n",
    "Using the hyperparameters from the best candidate and fit on a larger dataset"
   ]
  },
  {
   "cell_type": "code",
   "execution_count": 149,
   "id": "247769c0-50a9-43e1-acaf-d6a81a929b8d",
   "metadata": {
    "tags": []
   },
   "outputs": [],
   "source": [
    "# train_data_s3_path = 's3://{}/{}/output/bank-subset-20230523-21-26/transformed-data/dpp5/rpb/train'.format(bucket, prefix)\n",
    "# val_data_s3_path = 's3://{}/{}/output/bank-subset-20230523-21-26/transformed-data/dpp5/rpb/validation'.format(bucket, prefix)\n",
    "train_data_path = train_transform_output\n",
    "val_data_path = train_transform_output\n",
    "\n",
    "model_s3_path = \"s3://{}/{}/output/training\".format(bucket, prefix)\n",
    "train_instance = \"ml.m5.4xlarge\"\n",
    "instance_count = 1\n",
    "training_job_name = \"ap-training-api-test-Jun29\""
   ]
  },
  {
   "cell_type": "code",
   "execution_count": 150,
   "id": "41930f30-cd09-4903-84b5-816f450f0571",
   "metadata": {
    "tags": []
   },
   "outputs": [
    {
     "data": {
      "text/plain": [
       "{'TrainingJobArn': 'arn:aws:sagemaker:us-east-1:827930657850:training-job/ap-training-api-test-Jun29',\n",
       " 'ResponseMetadata': {'RequestId': '0838a3f0-444e-4ba3-90db-451b9fad84bd',\n",
       "  'HTTPStatusCode': 200,\n",
       "  'HTTPHeaders': {'x-amzn-requestid': '0838a3f0-444e-4ba3-90db-451b9fad84bd',\n",
       "   'content-type': 'application/x-amz-json-1.1',\n",
       "   'content-length': '101',\n",
       "   'date': 'Thu, 29 Jun 2023 16:22:46 GMT'},\n",
       "  'RetryAttempts': 0}}"
      ]
     },
     "execution_count": 150,
     "metadata": {},
     "output_type": "execute_result"
    }
   ],
   "source": [
    "# kick off a new training job\n",
    "sagemaker_client.create_training_job(\n",
    "    TrainingJobName=training_job_name,\n",
    "    RoleArn=role,\n",
    "    AlgorithmSpecification={\n",
    "        \"TrainingImage\": response[\"AlgorithmSpecification\"][\"TrainingImage\"],\n",
    "        \"TrainingInputMode\": \"File\",\n",
    "    },\n",
    "    HyperParameters=response[\"HyperParameters\"],\n",
    "    InputDataConfig=[\n",
    "        {\n",
    "            \"ChannelName\": \"train\",\n",
    "            \"DataSource\": {\n",
    "                \"S3DataSource\": {\n",
    "                    \"S3DataType\": \"S3Prefix\",\n",
    "                    \"S3Uri\": train_data_path,\n",
    "                    \"S3DataDistributionType\": \"ShardedByS3Key\",\n",
    "                }\n",
    "            },\n",
    "            \"ContentType\": output_accept,\n",
    "            \"CompressionType\": \"None\",\n",
    "            \"RecordWrapperType\": \"None\",\n",
    "            \"InputMode\": \"Pipe\",\n",
    "            # \"EnableFFM\": False,\n",
    "        },\n",
    "        {\n",
    "            \"ChannelName\": \"validation\",\n",
    "            \"DataSource\": {\n",
    "                \"S3DataSource\": {\n",
    "                    \"S3DataType\": \"S3Prefix\",\n",
    "                    \"S3Uri\": val_data_path,\n",
    "                    \"S3DataDistributionType\": \"FullyReplicated\",\n",
    "                }\n",
    "            },\n",
    "            \"ContentType\": output_accept,\n",
    "            \"CompressionType\": \"None\",\n",
    "            \"RecordWrapperType\": \"None\",\n",
    "            \"InputMode\": \"Pipe\",\n",
    "            # \"EnableFFM\": False,\n",
    "        },\n",
    "    ],\n",
    "    OutputDataConfig={\n",
    "        \"KmsKeyId\": \"\",\n",
    "        \"S3OutputPath\": model_s3_path,\n",
    "    },\n",
    "    ResourceConfig={\n",
    "        \"InstanceType\": train_instance,\n",
    "        \"InstanceCount\": instance_count,\n",
    "        \"VolumeSizeInGB\": 50,\n",
    "    },\n",
    "    StoppingCondition={\"MaxRuntimeInSeconds\": 86400},\n",
    ")"
   ]
  },
  {
   "cell_type": "code",
   "execution_count": null,
   "id": "4a7036a3-f410-42c7-b0ca-0a9a6c4e2baf",
   "metadata": {
    "tags": []
   },
   "outputs": [],
   "source": [
    "model_name = training_job_name\n",
    "\n",
    "# track model training progress\n",
    "print(\"JobStatus - Secondary Status\")\n",
    "print(\"------------------------------\")\n",
    "\n",
    "\n",
    "info = sagemaker_client.describe_training_job(TrainingJobName=model_name)\n",
    "job_run_status = info[\"TrainingJobStatus\"]\n",
    "print(info[\"TrainingJobStatus\"] + \" - \" + info[\"SecondaryStatus\"])\n",
    "\n",
    "while job_run_status not in (\"Failed\", \"Completed\", \"Stopped\"):\n",
    "    info = sagemaker_client.describe_training_job(TrainingJobName=model_name)\n",
    "    job_run_status = info[\"TrainingJobStatus\"]\n",
    "    print(info[\"TrainingJobStatus\"] + \" - \" + info[\"SecondaryStatus\"])\n",
    "    sleep(60)"
   ]
  },
  {
   "cell_type": "markdown",
   "id": "9deabc34-d9f2-4984-8a06-841c062f1b99",
   "metadata": {},
   "source": [
    "## Create a model using SageMaker AutoML API & Batch Transform Predict test dataset\n",
    "We will replace the original tuning model in the autopilot job with the newly fitted model"
   ]
  },
  {
   "cell_type": "code",
   "execution_count": null,
   "id": "56e23660-d40b-4f5a-aaea-6ab46064f557",
   "metadata": {
    "tags": []
   },
   "outputs": [],
   "source": [
    "# original recipe\n",
    "print(best_candidate[\"CandidateSteps\"])\n",
    "# replace tuning candidate with re-fitted model\n",
    "best_candidate[\"CandidateSteps\"][3][\"CandidateStepName\"] = training_job_name\n",
    "best_candidate[\"CandidateSteps\"][3][\"CandidateStepArn\"] = info[\"TrainingJobArn\"]\n",
    "# validate\n",
    "print(best_candidate[\"CandidateSteps\"])"
   ]
  },
  {
   "cell_type": "code",
   "execution_count": null,
   "id": "12945400-c7cd-45f2-9dab-625b8aa48d7f",
   "metadata": {
    "tags": []
   },
   "outputs": [],
   "source": [
    "# original recipe\n",
    "print(best_candidate[\"InferenceContainers\"][1])\n",
    "# replace tuning container with re-fitted model\n",
    "best_candidate[\"InferenceContainers\"][1][\"ModelDataUrl\"] = info[\"ModelArtifacts\"][\n",
    "    \"S3ModelArtifacts\"\n",
    "]\n",
    "# validate\n",
    "print(best_candidate[\"InferenceContainers\"][1])"
   ]
  },
  {
   "cell_type": "code",
   "execution_count": null,
   "id": "7f38c7db-ade8-4ea6-bcbe-b157d4db143e",
   "metadata": {
    "tags": []
   },
   "outputs": [],
   "source": [
    "# creat model by replacing recipes of best candidate\n",
    "inference_response_keys = [\"predicted_label\", \"probability\"]\n",
    "\n",
    "hack_model = automl.create_model(\n",
    "    name=best_candidate_name + \"-hack\",\n",
    "    candidate=best_candidate,\n",
    "    inference_response_keys=inference_response_keys,\n",
    ")\n",
    "\n",
    "# Now you can batch transform the test dataset\n",
    "batch_output = \"s3://{}/{}/output/whole/batchTransformHack\".format(bucket, prefix)\n",
    "transformer = hack_model.transformer(\n",
    "    instance_count=1, instance_type=\"ml.m5.xlarge\", assemble_with=\"Line\", output_path=batch_output\n",
    ")\n",
    "\n",
    "transformer.transform(\n",
    "    data=test_data_s3_path, split_type=\"Line\", content_type=\"text/csv\", wait=False\n",
    ")"
   ]
  },
  {
   "cell_type": "code",
   "execution_count": null,
   "id": "2773d6e7-8255-499e-baa1-0b209a04222a",
   "metadata": {
    "tags": []
   },
   "outputs": [],
   "source": [
    "# model_data = info[\"ModelArtifacts\"][\"S3ModelArtifacts\"]\n",
    "\n",
    "# primary_container = {\"Image\": TrainingImage, \"ModelDataUrl\": model_data}\n",
    "\n",
    "# create_model_response = sagemaker_client.create_model(\n",
    "#     ModelName=model_name, ExecutionRoleArn=role, PrimaryContainer=primary_container\n",
    "# )\n",
    "\n",
    "# print(create_model_response[\"ModelArn\"])"
   ]
  },
  {
   "cell_type": "markdown",
   "id": "e59e051b-c9a4-419f-a92d-825bd2e8acb5",
   "metadata": {},
   "source": [
    "## Last Step! Evaluate the model and compare it with the baseline"
   ]
  },
  {
   "cell_type": "code",
   "execution_count": null,
   "id": "1a9fed35-05fa-4c28-b1c9-b20d083f9f33",
   "metadata": {},
   "outputs": [],
   "source": [
    "# make sure the baseline autopilot job is finished\n",
    "print(\"JobStatus - Secondary Status\")\n",
    "print(\"------------------------------\")\n",
    "\n",
    "\n",
    "describe_response = sagemaker_client.describe_auto_ml_job(AutoMLJobName=auto_ml_baseline_job_name)\n",
    "print(describe_response[\"AutoMLJobStatus\"] + \" - \" + describe_response[\"AutoMLJobSecondaryStatus\"])\n",
    "job_run_status = describe_response[\"AutoMLJobStatus\"]\n",
    "\n",
    "while job_run_status not in (\"Failed\", \"Completed\", \"Stopped\"):\n",
    "    describe_response = sagemaker_client.describe_auto_ml_job(AutoMLJobName=auto_ml_job_name)\n",
    "    job_run_status = describe_response[\"AutoMLJobStatus\"]\n",
    "\n",
    "    print(\n",
    "        describe_response[\"AutoMLJobStatus\"] + \" - \" + describe_response[\"AutoMLJobSecondaryStatus\"]\n",
    "    )\n",
    "    sleep(60)"
   ]
  },
  {
   "cell_type": "code",
   "execution_count": null,
   "id": "7d1d5c37-be95-4c5b-a705-c1ddf61dcec1",
   "metadata": {
    "tags": []
   },
   "outputs": [],
   "source": [
    "# creat model using the baseline autopilot job\n",
    "\n",
    "automl = AutoML.attach(auto_ml_job_name=auto_ml_baseline_job_name)\n",
    "best_candidate = automl.describe_auto_ml_job()[\"BestCandidate\"]\n",
    "best_candidate_name = best_candidate[\"CandidateName\"]\n",
    "\n",
    "baseline_model = automl.create_model(\n",
    "    name=best_candidate_name,\n",
    "    candidate=best_candidate,\n",
    "    inference_response_keys=inference_response_keys,\n",
    ")\n",
    "\n",
    "batch_baseline_output = \"s3://{}/{}/output/whole/batchTransform\".format(bucket, prefix)\n",
    "transformer = baseline_model.transformer(\n",
    "    instance_count=1, instance_type=\"ml.m5.xlarge\", assemble_with=\"Line\", output_path=batch_output\n",
    ")\n",
    "\n",
    "transformer.transform(\n",
    "    data=test_data_s3_path, split_type=\"Line\", content_type=\"text/csv\", wait=False\n",
    ")"
   ]
  },
  {
   "cell_type": "code",
   "execution_count": 103,
   "id": "3ef0d0a4-0774-43a4-96c7-0d8fa0a4ae42",
   "metadata": {
    "tags": []
   },
   "outputs": [],
   "source": [
    "import re\n",
    "\n",
    "\n",
    "def get_csv_output_from_s3(s3uri, batch_file):\n",
    "    file_name = \"{}.out\".format(batch_file)\n",
    "    match = re.match(\"s3://([^/]+)/(.*)\", \"{}/{}\".format(s3uri, file_name))\n",
    "    output_bucket, output_prefix = match.group(1), match.group(2)\n",
    "    s3.download_file(output_bucket, output_prefix, file_name)\n",
    "    return pd.read_csv(file_name, sep=\",\", header=None)"
   ]
  },
  {
   "cell_type": "code",
   "execution_count": 112,
   "id": "2da766f8-d0a5-4721-b6bb-1c3cbff6712a",
   "metadata": {
    "tags": []
   },
   "outputs": [],
   "source": [
    "baseline_df = get_csv_output_from_s3(batch_baseline_output, test_file)"
   ]
  },
  {
   "cell_type": "code",
   "execution_count": 108,
   "id": "59bd2f88-bda8-4c6d-b6ac-9e55d967fffa",
   "metadata": {
    "tags": []
   },
   "outputs": [],
   "source": [
    "hackmodel_df = get_csv_output_from_s3(batch_output, test_file)"
   ]
  },
  {
   "cell_type": "code",
   "execution_count": null,
   "id": "6b9fb66e-dd5f-486e-ad09-a880836549ff",
   "metadata": {},
   "outputs": [],
   "source": [
    "# groundtruth\n",
    "test_groundtruth = test_data[\"y\"]"
   ]
  },
  {
   "cell_type": "code",
   "execution_count": 129,
   "id": "7442c6f1-9363-431b-afaa-c6afe989e3a9",
   "metadata": {
    "tags": []
   },
   "outputs": [
    {
     "name": "stdout",
     "output_type": "stream",
     "text": [
      "Baseline model (autopilot on whole training data) score: 0.8644088370963826, our model score: 0.8678077203204662\n"
     ]
    }
   ],
   "source": [
    "# compare this evaluation result with the autopilot model trained on whole dataset\n",
    "from sklearn.metrics import accuracy_score\n",
    "\n",
    "baseline_score = accuracy_score(test_groundtruth, baseline_df.iloc[:, 0])\n",
    "hackmodel_score = accuracy_score(test_groundtruth, hackmodel_df.iloc[:, 0])\n",
    "print(\n",
    "    \"Baseline model (autopilot on whole training data) score: {}, our model score: {}\".format(\n",
    "        baseline_score, hackmodel_score\n",
    "    )\n",
    ")"
   ]
  },
  {
   "cell_type": "markdown",
   "id": "227dd304-950e-48bf-9fef-1fff94723eac",
   "metadata": {},
   "source": [
    "## The end"
   ]
  }
 ],
 "metadata": {
  "instance_type": "ml.t3.medium",
  "kernelspec": {
   "display_name": "Python 3 (Data Science 3.0)",
   "language": "python",
   "name": "python3__SAGEMAKER_INTERNAL__arn:aws:sagemaker:us-east-1:081325390199:image/sagemaker-data-science-310-v1"
  },
  "language_info": {
   "codemirror_mode": {
    "name": "ipython",
    "version": 3
   },
   "file_extension": ".py",
   "mimetype": "text/x-python",
   "name": "python",
   "nbconvert_exporter": "python",
   "pygments_lexer": "ipython3",
   "version": "3.10.6"
  }
 },
 "nbformat": 4,
 "nbformat_minor": 5
}
